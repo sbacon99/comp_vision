{
  "nbformat": 4,
  "nbformat_minor": 0,
  "metadata": {
    "colab": {
      "name": "lab01.ipynb",
      "provenance": []
    },
    "kernelspec": {
      "name": "python3",
      "display_name": "Python 3"
    },
    "language_info": {
      "name": "python"
    }
  },
  "cells": [
    {
      "cell_type": "markdown",
      "source": [
        "#CSC 4166 - Computer Vision\n",
        "##Lab 1 - Basics\n",
        "##Jan 31, 2022\n",
        "## Sam Bacon\n",
        "Practice with Jupiter Notebooks, Python basics, and numPy arrays"
      ],
      "metadata": {
        "id": "JO-g-HgrPOo0"
      }
    },
    {
      "cell_type": "code",
      "execution_count": 1,
      "metadata": {
        "id": "ckA31E7dPJxq"
      },
      "outputs": [],
      "source": [
        "import numpy as np\n",
        "import matplotlib.pyplot as plt"
      ]
    },
    {
      "cell_type": "markdown",
      "source": [
        "## Part 1"
      ],
      "metadata": {
        "id": "EnGSoEWBRcJL"
      }
    },
    {
      "cell_type": "code",
      "source": [
        "def repeat_print(names, num_times):\n",
        "  for name in names:\n",
        "    i = num_times\n",
        "    while i > 0:\n",
        "      print(name)\n",
        "      i -=1"
      ],
      "metadata": {
        "id": "5ckJJmhNPy1r"
      },
      "execution_count": 16,
      "outputs": []
    },
    {
      "cell_type": "code",
      "source": [
        "repeat_print(['abc','def','ghi'], 4)"
      ],
      "metadata": {
        "colab": {
          "base_uri": "https://localhost:8080/"
        },
        "id": "P7sxVIirRYaY",
        "outputId": "9023a435-87bd-4e94-dae7-0de93163a82d"
      },
      "execution_count": 38,
      "outputs": [
        {
          "output_type": "stream",
          "name": "stdout",
          "text": [
            "abc\n",
            "abc\n",
            "abc\n",
            "abc\n",
            "def\n",
            "def\n",
            "def\n",
            "def\n",
            "ghi\n",
            "ghi\n",
            "ghi\n",
            "ghi\n"
          ]
        }
      ]
    },
    {
      "cell_type": "markdown",
      "source": [
        "## Part 2"
      ],
      "metadata": {
        "id": "mDPh4MqcRrdt"
      }
    },
    {
      "cell_type": "code",
      "source": [
        "def array_math(A, B):\n",
        "  if A.shape != B.shape:\n",
        "    return np.nan\n",
        "  \n",
        "  return 2*A + B"
      ],
      "metadata": {
        "id": "G8ohoD9HRsQo"
      },
      "execution_count": 19,
      "outputs": []
    },
    {
      "cell_type": "code",
      "source": [
        "print()\n",
        "X = np.zeros((2, 3))+4\n",
        "Y = np.zeros((2, 3))+5\n",
        "print(array_math(X, Y))"
      ],
      "metadata": {
        "colab": {
          "base_uri": "https://localhost:8080/"
        },
        "id": "R4f-HhKYSLQ8",
        "outputId": "671d8623-c8bf-41e5-e172-9aacd9d309f3"
      },
      "execution_count": 23,
      "outputs": [
        {
          "output_type": "stream",
          "name": "stdout",
          "text": [
            "\n",
            "[[13. 13. 13.]\n",
            " [13. 13. 13.]]\n"
          ]
        }
      ]
    },
    {
      "cell_type": "markdown",
      "source": [
        "## Part 3"
      ],
      "metadata": {
        "id": "h38A6Eq2SvEi"
      }
    },
    {
      "cell_type": "code",
      "source": [
        "# Make a big 2D array of zeros\n",
        "A = np.zeros((300, 400), dtype=np.uint8)\n",
        "\n",
        "# Use slicing to set part of the array to a new value\n",
        "A[:300, :200] = 255\n",
        "A[:300:, 200:] = 0\n",
        "A[100:200, 150:250] = 127\n",
        "A[140:160, 190:210] = 80\n",
        "\n",
        "# Visualize\n",
        "plt.imshow(A, cmap='gray', vmin=0, vmax=255)\n",
        "plt.colorbar()\n",
        "plt.show()"
      ],
      "metadata": {
        "colab": {
          "base_uri": "https://localhost:8080/",
          "height": 257
        },
        "id": "FBn_pvSaSvsG",
        "outputId": "133486a3-e3d8-4c9e-bc0b-955477973369"
      },
      "execution_count": 37,
      "outputs": [
        {
          "output_type": "display_data",
          "data": {
            "image/png": "[encoded data removed]",
            "text/plain": [
              "<Figure size 432x288 with 2 Axes>"
            ]
          },
          "metadata": {
            "needs_background": "light"
          }
        }
      ]
    }
  ]
}